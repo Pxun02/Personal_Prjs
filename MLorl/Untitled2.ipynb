{
 "cells": [
  {
   "cell_type": "code",
   "execution_count": 4,
   "id": "5380488d",
   "metadata": {},
   "outputs": [
    {
     "name": "stdout",
     "output_type": "stream",
     "text": [
      "Requirement already satisfied: torch in /Users/pingdaoxunye/opt/anaconda3/lib/python3.9/site-packages (1.12.1)\n",
      "Requirement already satisfied: torchvision in /Users/pingdaoxunye/opt/anaconda3/lib/python3.9/site-packages (0.13.1)\n",
      "Requirement already satisfied: typing-extensions in /Users/pingdaoxunye/opt/anaconda3/lib/python3.9/site-packages (from torch) (3.10.0.2)\n",
      "Requirement already satisfied: requests in /Users/pingdaoxunye/opt/anaconda3/lib/python3.9/site-packages (from torchvision) (2.26.0)\n",
      "Requirement already satisfied: numpy in /Users/pingdaoxunye/opt/anaconda3/lib/python3.9/site-packages (from torchvision) (1.20.3)\n",
      "Requirement already satisfied: pillow!=8.3.*,>=5.3.0 in /Users/pingdaoxunye/opt/anaconda3/lib/python3.9/site-packages (from torchvision) (8.4.0)\n",
      "Requirement already satisfied: certifi>=2017.4.17 in /Users/pingdaoxunye/opt/anaconda3/lib/python3.9/site-packages (from requests->torchvision) (2021.10.8)\n",
      "Requirement already satisfied: idna<4,>=2.5 in /Users/pingdaoxunye/opt/anaconda3/lib/python3.9/site-packages (from requests->torchvision) (3.2)\n",
      "Requirement already satisfied: urllib3<1.27,>=1.21.1 in /Users/pingdaoxunye/opt/anaconda3/lib/python3.9/site-packages (from requests->torchvision) (1.26.7)\n",
      "Requirement already satisfied: charset-normalizer~=2.0.0 in /Users/pingdaoxunye/opt/anaconda3/lib/python3.9/site-packages (from requests->torchvision) (2.0.4)\n",
      "Collecting gym-super-mario-bros==7.3.0\n",
      "  Downloading gym_super_mario_bros-7.3.0-py2.py3-none-any.whl (198 kB)\n",
      "\u001b[2K     \u001b[90m━━━━━━━━━━━━━━━━━━━━━━━━━━━━━━━━━━━━━━━\u001b[0m \u001b[32m198.6/198.6 kB\u001b[0m \u001b[31m4.6 MB/s\u001b[0m eta \u001b[36m0:00:00\u001b[0m00:01\u001b[0m\n",
      "\u001b[?25hCollecting nes-py>=8.0.0\n",
      "  Downloading nes_py-8.2.1.tar.gz (77 kB)\n",
      "\u001b[2K     \u001b[90m━━━━━━━━━━━━━━━━━━━━━━━━━━━━━━━━━━━━━━━━\u001b[0m \u001b[32m77.7/77.7 kB\u001b[0m \u001b[31m2.7 MB/s\u001b[0m eta \u001b[36m0:00:00\u001b[0m\n",
      "\u001b[?25h  Preparing metadata (setup.py) ... \u001b[?25ldone\n",
      "\u001b[?25hRequirement already satisfied: gym>=0.17.2 in /Users/pingdaoxunye/opt/anaconda3/lib/python3.9/site-packages (from nes-py>=8.0.0->gym-super-mario-bros==7.3.0) (0.24.1)\n",
      "Requirement already satisfied: numpy>=1.18.5 in /Users/pingdaoxunye/opt/anaconda3/lib/python3.9/site-packages (from nes-py>=8.0.0->gym-super-mario-bros==7.3.0) (1.20.3)\n",
      "Collecting pyglet<=1.5.21,>=1.4.0\n",
      "  Downloading pyglet-1.5.21-py3-none-any.whl (1.1 MB)\n",
      "\u001b[2K     \u001b[90m━━━━━━━━━━━━━━━━━━━━━━━━━━━━━━━━━━━━━━━━\u001b[0m \u001b[32m1.1/1.1 MB\u001b[0m \u001b[31m8.7 MB/s\u001b[0m eta \u001b[36m0:00:00\u001b[0m:00:01\u001b[0m00:01\u001b[0m\n",
      "\u001b[?25hRequirement already satisfied: tqdm>=4.48.2 in /Users/pingdaoxunye/opt/anaconda3/lib/python3.9/site-packages (from nes-py>=8.0.0->gym-super-mario-bros==7.3.0) (4.62.3)\n",
      "Requirement already satisfied: gym-notices>=0.0.4 in /Users/pingdaoxunye/opt/anaconda3/lib/python3.9/site-packages (from gym>=0.17.2->nes-py>=8.0.0->gym-super-mario-bros==7.3.0) (0.0.7)\n",
      "Requirement already satisfied: importlib-metadata>=4.8.0 in /Users/pingdaoxunye/opt/anaconda3/lib/python3.9/site-packages (from gym>=0.17.2->nes-py>=8.0.0->gym-super-mario-bros==7.3.0) (4.8.1)\n",
      "Requirement already satisfied: cloudpickle>=1.2.0 in /Users/pingdaoxunye/opt/anaconda3/lib/python3.9/site-packages (from gym>=0.17.2->nes-py>=8.0.0->gym-super-mario-bros==7.3.0) (2.0.0)\n",
      "Requirement already satisfied: zipp>=0.5 in /Users/pingdaoxunye/opt/anaconda3/lib/python3.9/site-packages (from importlib-metadata>=4.8.0->gym>=0.17.2->nes-py>=8.0.0->gym-super-mario-bros==7.3.0) (3.6.0)\n",
      "Building wheels for collected packages: nes-py\n",
      "  Building wheel for nes-py (setup.py) ... \u001b[?25ldone\n",
      "\u001b[?25h  Created wheel for nes-py: filename=nes_py-8.2.1-cp39-cp39-macosx_10_9_x86_64.whl size=47636 sha256=235c552f947c9c6dcb2bd63cde8f7a5e23d6dc9c07a586415bc89b47a5aa66f6\n",
      "  Stored in directory: /Users/pingdaoxunye/Library/Caches/pip/wheels/c6/e1/4b/dbbd5d4a46ad80c0149d5671edb272c728c130e4d5750ca1d2\n",
      "Successfully built nes-py\n",
      "Installing collected packages: pyglet, nes-py, gym-super-mario-bros\n",
      "Successfully installed gym-super-mario-bros-7.3.0 nes-py-8.2.1 pyglet-1.5.21\n",
      "Requirement already satisfied: nes-py in /Users/pingdaoxunye/opt/anaconda3/lib/python3.9/site-packages (8.2.1)\n",
      "Requirement already satisfied: numpy>=1.18.5 in /Users/pingdaoxunye/opt/anaconda3/lib/python3.9/site-packages (from nes-py) (1.20.3)\n",
      "Requirement already satisfied: pyglet<=1.5.21,>=1.4.0 in /Users/pingdaoxunye/opt/anaconda3/lib/python3.9/site-packages (from nes-py) (1.5.21)\n",
      "Requirement already satisfied: gym>=0.17.2 in /Users/pingdaoxunye/opt/anaconda3/lib/python3.9/site-packages (from nes-py) (0.24.1)\n",
      "Requirement already satisfied: tqdm>=4.48.2 in /Users/pingdaoxunye/opt/anaconda3/lib/python3.9/site-packages (from nes-py) (4.62.3)\n",
      "Requirement already satisfied: cloudpickle>=1.2.0 in /Users/pingdaoxunye/opt/anaconda3/lib/python3.9/site-packages (from gym>=0.17.2->nes-py) (2.0.0)\n",
      "Requirement already satisfied: importlib-metadata>=4.8.0 in /Users/pingdaoxunye/opt/anaconda3/lib/python3.9/site-packages (from gym>=0.17.2->nes-py) (4.8.1)\n",
      "Requirement already satisfied: gym-notices>=0.0.4 in /Users/pingdaoxunye/opt/anaconda3/lib/python3.9/site-packages (from gym>=0.17.2->nes-py) (0.0.7)\n",
      "Requirement already satisfied: zipp>=0.5 in /Users/pingdaoxunye/opt/anaconda3/lib/python3.9/site-packages (from importlib-metadata>=4.8.0->gym>=0.17.2->nes-py) (3.6.0)\n"
     ]
    }
   ],
   "source": [
    "!pip install torch torchvision\n",
    "!pip install gym-super-mario-bros==7.3.0\n",
    "!pip install nes-py\n",
    "\n",
    "import torch\n",
    "from torch import nn\n",
    "from torchvision import transforms as T\n",
    "from PIL import Image\n",
    "import numpy as np\n",
    "from pathlib import Path\n",
    "from collections import deque\n",
    "import random, datetime, os, copy\n",
    "\n",
    "# Gym is an OpenAI toolkit for RL\n",
    "import gym\n",
    "from gym.spaces import Box\n",
    "from gym.wrappers import FrameStack\n",
    "\n",
    "# NES Emulator for OpenAI Gym\n",
    "from nes_py.wrappers import JoypadSpace\n",
    "\n",
    "# Super Mario environment for OpenAI Gym\n",
    "import gym_super_mario_bros"
   ]
  },
  {
   "cell_type": "code",
   "execution_count": 5,
   "id": "4915265d",
   "metadata": {},
   "outputs": [
    {
     "name": "stderr",
     "output_type": "stream",
     "text": [
      "/Users/pingdaoxunye/opt/anaconda3/lib/python3.9/site-packages/gym/envs/registration.py:564: UserWarning: \u001b[33mWARN: The environment SuperMarioBros-1-1-v0 is out of date. You should consider upgrading to version `v3`.\u001b[0m\n",
      "  logger.warn(\n"
     ]
    },
    {
     "name": "stdout",
     "output_type": "stream",
     "text": [
      "(240, 256, 3), \n",
      " 0.0, \n",
      " False, \n",
      " {'coins': 0, 'flag_get': False, 'life': 2, 'score': 0, 'stage': 1, 'status': 'small', 'time': 400, 'world': 1, 'x_pos': 40, 'x_pos_screen': 40, 'y_pos': 79}\n"
     ]
    },
    {
     "name": "stderr",
     "output_type": "stream",
     "text": [
      "/Users/pingdaoxunye/opt/anaconda3/lib/python3.9/site-packages/gym/utils/passive_env_checker.py:97: UserWarning: \u001b[33mWARN: We recommend you to use a symmetric and normalized Box action space (range=[-1, 1]) https://stable-baselines3.readthedocs.io/en/master/guide/rl_tips.html\u001b[0m\n",
      "  logger.warn(\n"
     ]
    }
   ],
   "source": [
    "#initialize the env\n",
    "env = gym_super_mario_bros.make(\"SuperMarioBros-1-1-v0\")\n",
    "\n",
    "#Limit the action-space to\n",
    "#  0. walk right\n",
    "#  1. jump right\n",
    "env = JoypadSpace(env, [[\"right\"], [\"right\", \"A\"]])\n",
    "\n",
    "env.reset()\n",
    "next_state, reward, done, info = env.step(action=0)\n",
    "print(f\"{next_state.shape}, \\n {reward}, \\n {done}, \\n {info}\")"
   ]
  },
  {
   "cell_type": "code",
   "execution_count": 9,
   "id": "db71c8de",
   "metadata": {},
   "outputs": [],
   "source": [
    "#environment\n",
    "class SkipFrame(gym.Wrapper):\n",
    "    def __init__(self, env, skip):\n",
    "        super().__init__(env)\n",
    "        self._skip = skip\n",
    "        \n",
    "    def step(self, action):\n",
    "        total_reward = 0.0\n",
    "        done = False\n",
    "        for i in range(self._skip):\n",
    "            obs, reward, done, info = self.env.step(action)\n",
    "            total_reward += reward\n",
    "            if done:\n",
    "                break\n",
    "        return obs, total_reward, done, info\n",
    "    \n",
    "class GrayScaleObservation(gym.ObservationWrapper):\n",
    "    def __init__(self, env):\n",
    "        super().__init__(env)\n",
    "        obs_shape = self.observation_space.shape[:2]\n",
    "        self.observation_space = Box(low=0, high=255, shape=obs_shape, dtype=np.uint8)\n",
    "        \n",
    "    def permute_orientation(self, observation):\n",
    "        #permute [H, W, C] array to [C, H, W] tensor\n",
    "        observation = np.transpose(observation, (2, 0, 1))\n",
    "        observation = torch.tensor(observation.copy(), dtype=torch.float)\n",
    "        return observation\n",
    "        \n",
    "    def observation(self, observataion):\n",
    "        observation = self.permute_orientation(observation)\n",
    "        transform = T.Grayscale()\n",
    "        observation = transform(observation)\n",
    "        return observation\n",
    "    \n",
    "class ResizeObservation(gym.ObservationWrapper):\n",
    "    def __init__(self, env, shape):\n",
    "        super().__init__(env)\n",
    "        if isinstance(shape, int):\n",
    "            self.shape = (shape, shape)\n",
    "        else:\n",
    "            self.shape = tuple(shape)\n",
    "            \n",
    "        obs_shape = self.shape + self.observation_space.shape[2:]\n",
    "        self.observation_space = Box(low=0, high=255, shape=obs_shape, dtype=np.uint8)\n",
    "        \n",
    "    def observation(self, observation):\n",
    "        transforms = T.Compose(\n",
    "        [T.Resize(self.shape), T.Normalize(0, 255)]\n",
    "        )\n",
    "        observation = transforms(observation).squeeze(0)\n",
    "        return observation\n",
    "\n",
    "#Apply Wrappers to env\n",
    "env = SkipFrame(env, skip=4)\n",
    "env = GrayScaleObservation(env)\n",
    "env = ResizeObservation(env, shape=84)\n",
    "env = FrameStack(env, num_stack=4)"
   ]
  },
  {
   "cell_type": "code",
   "execution_count": null,
   "id": "8bcef581",
   "metadata": {},
   "outputs": [],
   "source": [
    "#Agent\n",
    "class Mario:\n",
    "    def __init__(self, state_dim, action_dim, save_dir):\n",
    "        self.state_dim = state_dim\n",
    "        self.action_dim = action_dim\n",
    "        self.save_dir = save_dir\n",
    "        self.use\n",
    "    \n",
    "    def act(self, state):\n",
    "        pass\n",
    "    \n",
    "    def cache(self, experience):\n",
    "        pass\n",
    "    \n",
    "    def recall(self):\n",
    "        pass\n",
    "    \n",
    "    def learn(self):\n",
    "        pass\n",
    "    "
   ]
  }
 ],
 "metadata": {
  "kernelspec": {
   "display_name": "Python 3 (ipykernel)",
   "language": "python",
   "name": "python3"
  },
  "language_info": {
   "codemirror_mode": {
    "name": "ipython",
    "version": 3
   },
   "file_extension": ".py",
   "mimetype": "text/x-python",
   "name": "python",
   "nbconvert_exporter": "python",
   "pygments_lexer": "ipython3",
   "version": "3.9.7"
  }
 },
 "nbformat": 4,
 "nbformat_minor": 5
}
